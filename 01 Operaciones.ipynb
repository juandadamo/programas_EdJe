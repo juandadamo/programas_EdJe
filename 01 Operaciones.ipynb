{
 "cells": [
  {
   "cell_type": "markdown",
   "id": "03a52a63",
   "metadata": {},
   "source": [
    "[Comienzo]()"
   ]
  },
  {
   "cell_type": "markdown",
   "id": "aeb4b7f0",
   "metadata": {},
   "source": [
    "Vamos a aprender a usar **Operadores**. ¿Qué significan? Son acciones que podemos realizar entre elementos, datos, por ejemplo: Números!\n",
    "\n",
    "Ustedes ya conocen *operadores* sólo que no los han agrupado todavía con ese nombre. Veamos algunos que les van a resultar fáciles!"
   ]
  },
  {
   "cell_type": "markdown",
   "id": "6ef4b357",
   "metadata": {},
   "source": [
    "### Suma\n",
    "\n",
    "Supongamos que queremos resolver una cuenta como:\n",
    "\n",
    "`4 + 18`\n",
    "\n",
    "¿Cómo la resolvemos con Python? usamos una celda!"
   ]
  },
  {
   "cell_type": "code",
   "execution_count": 1,
   "id": "1d3b61bd",
   "metadata": {},
   "outputs": [
    {
     "data": {
      "text/plain": [
       "22"
      ]
     },
     "execution_count": 1,
     "metadata": {},
     "output_type": "execute_result"
    }
   ],
   "source": [
    "4 + 18"
   ]
  },
  {
   "cell_type": "markdown",
   "id": "a7cf5855",
   "metadata": {},
   "source": [
    "El símbolo `+`es un **operador** ! Sigamos con otro fácil:"
   ]
  },
  {
   "cell_type": "markdown",
   "id": "e7f86d0e",
   "metadata": {},
   "source": [
    "### Resta\n",
    "\n",
    "O \"sustracciones\". "
   ]
  },
  {
   "cell_type": "code",
   "execution_count": 2,
   "id": "d64fd828",
   "metadata": {},
   "outputs": [
    {
     "data": {
      "text/plain": [
       "46"
      ]
     },
     "execution_count": 2,
     "metadata": {},
     "output_type": "execute_result"
    }
   ],
   "source": [
    "2021 - 1975"
   ]
  },
  {
   "cell_type": "markdown",
   "id": "e019fa53",
   "metadata": {},
   "source": [
    "### Multiplicación\n",
    "\n",
    "Si bien en la escuela escribimos:\n",
    "\n",
    "`7 x 8`\n",
    "\n",
    "En computación, y en Python, usamos el símbolo `*` para multiplicar:\n"
   ]
  },
  {
   "cell_type": "markdown",
   "id": "a87d3f1c",
   "metadata": {},
   "source": [
    "### División\n",
    "\n",
    "Hay varias maneras de escribir una división entre dos números. A veces en la escuela ponemos\n",
    "\n",
    "`27 ÷ 3`\n",
    "\n",
    "Sabiendo también que podemos usar fracciones como \\(\\displaystyle \\frac{27}{3}\\).\n",
    "\n",
    "En Python usaremos la barra oblícua `/`.  Que palabra, \"[oblícua](https://www.rae.es/drae2001/oblicuo))\", ¿no?"
   ]
  },
  {
   "cell_type": "code",
   "execution_count": 5,
   "id": "fd16d112",
   "metadata": {},
   "outputs": [
    {
     "data": {
      "text/plain": [
       "9.0"
      ]
     },
     "execution_count": 5,
     "metadata": {},
     "output_type": "execute_result"
    }
   ],
   "source": [
    "27 / 3"
   ]
  },
  {
   "cell_type": "markdown",
   "id": "012fe36d",
   "metadata": {},
   "source": [
    "### Resto\n",
    "\n",
    "Atención que esta yo no me la sabía !  Vieron que cuando dividen dos números y el resultados debe ser un número entero, va a quedar un *resto* en la división. Por ejemplo 10 / 3 = 3 y el resto es 1. Bueno hay un **operador** para el resto! es `%`."
   ]
  },
  {
   "cell_type": "code",
   "execution_count": 6,
   "id": "c86544d7",
   "metadata": {},
   "outputs": [
    {
     "data": {
      "text/plain": [
       "1"
      ]
     },
     "execution_count": 6,
     "metadata": {},
     "output_type": "execute_result"
    }
   ],
   "source": [
    "10 % 3"
   ]
  },
  {
   "cell_type": "markdown",
   "id": "df112f9d",
   "metadata": {},
   "source": [
    "### Atención!\n",
    "\n",
    "Me estoy dando cuenta de que podrían hacer las cuentas de la escuela mucho más rápido... :-D. No está mal, pero hay que saber usar el lapiz y el papel también! Lo importante es que puedan hacerlas luego cuando estén allí sin la ayuda de la compu. Pero pueden usar Python para **revisar** sus tareas! "
   ]
  },
  {
   "cell_type": "markdown",
   "id": "61e7aac7",
   "metadata": {},
   "source": [
    "### Potencias\n",
    "\n",
    "Uyuyuy! Esto se pone más difícil, pero es la última. Aprendamos *potencias* con ejemplos fáciles:\n",
    "\n",
    "\\( 2^2\\) = ??\n",
    "\n",
    "Esto se lee \"dos a la dos\". O se dice también \"dos al cuadrado\".\n",
    "\n",
    "\\(2 ^ 2  = 2\\times 2 = ??\\)  Ehhh! esto ya es fácil !\n",
    "\n",
    "\\( 2^2\\) = 4\n",
    "\n",
    "Y si hacemos:\n",
    "\n",
    "\\(3^2 = 3 \\times 3 = ?? \\)\n",
    "\n",
    "En Python, la potencia se escribe \n",
    "\n",
    "`3**2`\n"
   ]
  },
  {
   "cell_type": "code",
   "execution_count": 7,
   "id": "84cf0442",
   "metadata": {},
   "outputs": [
    {
     "data": {
      "text/plain": [
       "9"
      ]
     },
     "execution_count": 7,
     "metadata": {},
     "output_type": "execute_result"
    }
   ],
   "source": [
    "3**2"
   ]
  },
  {
   "cell_type": "markdown",
   "id": "e8213cb6",
   "metadata": {},
   "source": [
    "Se animan a hacer cuentas de potencias \"a la tres\" o como se dice mejor \"al cubo\" ?\n",
    "\n",
    "Por ejemplo, cuanto es \\(3^3\\) ?\n",
    "\n",
    "¿Y cuanto es \\(10^3\\) ? A ver ?  Completen! Si no reemplazan el símbolo `_` les va a dar *error*."
   ]
  },
  {
   "cell_type": "code",
   "execution_count": null,
   "id": "eedb307f",
   "metadata": {},
   "outputs": [],
   "source": [
    "3 _ _\n",
    "\n",
    "10 _ _"
   ]
  },
  {
   "cell_type": "markdown",
   "id": "5a79baf5",
   "metadata": {},
   "source": [
    "### Números grandes !!\n",
    "\n",
    "Sí, cuando yo era pequeño y no andaba burlandome de las actos de clase y las lecturas del viejo amargo ese de Sarmiento, a veces me ponía con la calculadora para ver cuál era el número más grande que se puede ver.\n",
    "\n",
    "Empezaba poniendo \\(2\\times 2= 4\\) . A ese resultado lo multiplicaba por dos de nuevo:\n",
    "\n",
    "\\( 4 \\times 2 = 8\\)\n",
    "\n",
    "Y de nuevo multiplicaba por dos:\n",
    "\n",
    "\\( 8 \\times 2 = 16 \\)\n",
    "\n",
    "Y seguía\\(\\ldots\\)  Lo que estaba haciendo era calcular las **potencias** de 2 !!\n",
    "\n",
    "\\(2^2=4\\)\n",
    "\n",
    "\\(2^3=8\\)\n",
    "\n",
    "\\(2^4=16\\)\n",
    "\n",
    "Haganlo con Python:\n",
    "\n",
    "\\(2 ^ 5 \\) = ???\n"
   ]
  },
  {
   "cell_type": "markdown",
   "id": "5631a49f",
   "metadata": {},
   "source": [
    "2 _ _"
   ]
  },
  {
   "cell_type": "markdown",
   "id": "74bc310f",
   "metadata": {},
   "source": [
    "Y yo iba rápido con la calculadora y el último número que podía acordarme era 65536.\n",
    "\n",
    "¿Cuál es la potencia de 2 que da 65536 ? \n",
    "\n",
    "\\(2^x=65536\\)  \n",
    "\n",
    "\\(x\\) = ???"
   ]
  },
  {
   "cell_type": "code",
   "execution_count": 14,
   "id": "cf325a6c",
   "metadata": {},
   "outputs": [
    {
     "data": {
      "text/plain": [
       "65536"
      ]
     },
     "execution_count": 14,
     "metadata": {},
     "output_type": "execute_result"
    }
   ],
   "source": [
    "2 _ _"
   ]
  },
  {
   "cell_type": "markdown",
   "id": "53cc650d",
   "metadata": {},
   "source": [
    "Pongan en la calculadora (con el botón \\(x^y\\) ) la cuenta:\n",
    "\n",
    "\\( 2 ^ 1024 \\)\n",
    "\n",
    "Que sale en la calculadora ???\n",
    "\n",
    "Ahora vean que les pone Python"
   ]
  },
  {
   "cell_type": "code",
   "execution_count": null,
   "id": "55522d5b",
   "metadata": {},
   "outputs": [],
   "source": [
    "2 ** 1024"
   ]
  },
  {
   "cell_type": "code",
   "execution_count": null,
   "id": "3412bdf7",
   "metadata": {},
   "outputs": [],
   "source": []
  },
  {
   "cell_type": "markdown",
   "id": "7ab8fc69",
   "metadata": {},
   "source": [
    "Ouau!!! ¿¿¿Cómo diablos se puede pronunciar un número asi ??? :-D"
   ]
  },
  {
   "cell_type": "markdown",
   "id": "966960bb",
   "metadata": {},
   "source": [
    "### Longitudes\n",
    "\n",
    "Usemos nuestro conocimiento para calcular longitudes. ¿Cuanto vale la longitud de un triángulo ? \n",
    "\n",
    "Es la suma de la,longitud de sus tres lados. Si nos dicen que la longitud de cada uno de sus lados vale\n",
    "\n",
    "`L1 = 1`\n",
    "\n",
    "`L2 = 2`\n",
    "\n",
    "`L3 = 3`\n",
    "\n",
    "Usemos Python para definir variables!"
   ]
  },
  {
   "cell_type": "code",
   "execution_count": null,
   "id": "b40e4960",
   "metadata": {},
   "outputs": [],
   "source": [
    "L1 = _\n",
    "L2 = _\n",
    "L3 = \n",
    "\n",
    "LONGITUDTOTAL = _ _ _ _ _"
   ]
  },
  {
   "cell_type": "markdown",
   "id": "b2f95f5f",
   "metadata": {},
   "source": [
    "### Número Pi\n",
    "\n",
    "Existen algunos números muy especiales para las matemáticas. Uno de ellos se llama \"Pi\". Hay muchas historias interesantes alrededor de ese número. En la escuela lo primero que me dijeron era que valía algo como \\(3.14\\). \n",
    "\n",
    "Aunque en realidad para ser mas precisos era \\(3.1416\\)\n",
    "\n",
    "¿ Y para qué sirve ? Lo primero fue usarlo para calcular la longitud de una circunferencia.\n",
    "\n"
   ]
  },
  {
   "cell_type": "code",
   "execution_count": null,
   "id": "743808b8",
   "metadata": {},
   "outputs": [],
   "source": []
  }
 ],
 "metadata": {
  "kernelspec": {
   "display_name": "Python 3",
   "language": "python",
   "name": "python3"
  },
  "language_info": {
   "codemirror_mode": {
    "name": "ipython",
    "version": 3
   },
   "file_extension": ".py",
   "mimetype": "text/x-python",
   "name": "python",
   "nbconvert_exporter": "python",
   "pygments_lexer": "ipython3",
   "version": "3.8.8"
  },
  "latex_envs": {
   "LaTeX_envs_menu_present": true,
   "autoclose": true,
   "autocomplete": true,
   "bibliofile": "biblio.bib",
   "cite_by": "apalike",
   "current_citInitial": 1,
   "eqLabelWithNumbers": true,
   "eqNumInitial": 1,
   "hotkeys": {
    "equation": "Ctrl-E",
    "itemize": "Ctrl-I"
   },
   "labels_anchors": false,
   "latex_user_defs": false,
   "report_style_numbering": false,
   "user_envs_cfg": false
  }
 },
 "nbformat": 4,
 "nbformat_minor": 5
}
