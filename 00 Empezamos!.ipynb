{
 "cells": [
  {
   "cell_type": "markdown",
   "id": "03a52a63",
   "metadata": {},
   "source": [
    "[Comienzo](https://mybinder.org/v2/git/https%3A%2F%2Fgithub.com%2Fjuandadamo%2Fprogramas_edmond/HEAD?filepath=00%20Empezamos!.ipynb)"
   ]
  },
  {
   "cell_type": "markdown",
   "id": "aeb4b7f0",
   "metadata": {},
   "source": [
    "Hola! Antes de empezar, entendamos lo que son las celdas del \"cuaderno\" o \"notebook\". Allí podemos introducir texto o instrucciones de un programa. Son \"entradas\" en inglés, \"inputs\" por eso, dice: \n",
    "\n",
    "    In[ ]"
   ]
  },
  {
   "cell_type": "code",
   "execution_count": null,
   "id": "e532f76d",
   "metadata": {},
   "outputs": [],
   "source": []
  },
  {
   "cell_type": "markdown",
   "id": "d9078edc",
   "metadata": {},
   "source": [
    "Todavía no pongamos nada! Cuando haya cosas para completar, será sobre el símbolo: `_`\n",
    "\n",
    "Para verificar las tareas aparece una línea que dice: `isinstance()`\n",
    "\n",
    "Por ahora, podemos ignorar esa linea, pero no la saques!\n",
    "\n",
    "Para hacer que tus cambios se ejecuten, tenés que apretar el botón que dice *Run*, que tiene un triángulo, OK ?"
   ]
  },
  {
   "cell_type": "markdown",
   "id": "4d95d428",
   "metadata": {},
   "source": [
    "## Variables\n",
    "Cuando *programamos* necesitamos guardar datos: pueden ser imágenes, ruidos, textos, muchas cosas!! Por eso, usamos *variables*. Las Variables son como cajitas donde podemos almacenar cosas de distinto tipo.  \n",
    "\n",
    "Empecemos con una muy simple. Supongamos que necesitamos almacenar alturas de edificios. Pongamos a una variable \"Torre_Eiffel\" su altura en metros.\n"
   ]
  },
  {
   "cell_type": "code",
   "execution_count": 12,
   "id": "a38a540c",
   "metadata": {},
   "outputs": [
    {
     "data": {
      "text/plain": [
       "True"
      ]
     },
     "execution_count": 12,
     "metadata": {},
     "output_type": "execute_result"
    }
   ],
   "source": [
    "Torre_Eiffel = _\n",
    "\n",
    "isinstance(Torre_Eiffel,int)   #esta es para verificar"
   ]
  },
  {
   "cell_type": "markdown",
   "id": "7a829ce7",
   "metadata": {},
   "source": [
    "En `Python` podemos tener números enteros (int) o con decimales (float). En los decimales usamos `.` en vez de `,`. Hagamos un ejemplo con decimales, poné a continuación las siguientes alturas en metros:"
   ]
  },
  {
   "cell_type": "code",
   "execution_count": 13,
   "id": "34a5083d",
   "metadata": {},
   "outputs": [
    {
     "data": {
      "text/plain": [
       "False"
      ]
     },
     "execution_count": 13,
     "metadata": {},
     "output_type": "execute_result"
    }
   ],
   "source": [
    "Edmond = _\n",
    "\n",
    "isinstance(Edmond,float)   #esta es para verificar"
   ]
  },
  {
   "cell_type": "code",
   "execution_count": 14,
   "id": "aeaf704e",
   "metadata": {},
   "outputs": [
    {
     "data": {
      "text/plain": [
       "True"
      ]
     },
     "execution_count": 14,
     "metadata": {},
     "output_type": "execute_result"
    }
   ],
   "source": [
    "Jeanne = _\n",
    "\n",
    "isinstance(Jeanne,float)   #esta es para verificar"
   ]
  },
  {
   "cell_type": "markdown",
   "id": "ae26de5d",
   "metadata": {},
   "source": [
    "Ahora aprendamos variables de texto, atención, para poner texto debemos usar las comillas `\"` o `'`."
   ]
  },
  {
   "cell_type": "code",
   "execution_count": 34,
   "id": "1f396cd9",
   "metadata": {},
   "outputs": [
    {
     "data": {
      "text/plain": [
       "True"
      ]
     },
     "execution_count": 34,
     "metadata": {},
     "output_type": "execute_result"
    }
   ],
   "source": [
    "Animal = _\n",
    "\n",
    "Fruta = _\n",
    "\n",
    "Color = _\n",
    "\n",
    "\n",
    "all(isinstance(var, str) for var in [Animal,Fruta,Color])\n"
   ]
  },
  {
   "cell_type": "markdown",
   "id": "a8e19b19",
   "metadata": {},
   "source": [
    "Armemos una frase!\n",
    "\n",
    "Con las palabras anteriores escribí una frase, acordate las `\"` !"
   ]
  },
  {
   "cell_type": "code",
   "execution_count": null,
   "id": "3f4dc6c2",
   "metadata": {},
   "outputs": [],
   "source": []
  }
 ],
 "metadata": {
  "kernelspec": {
   "display_name": "Python 3",
   "language": "python",
   "name": "python3"
  },
  "language_info": {
   "codemirror_mode": {
    "name": "ipython",
    "version": 3
   },
   "file_extension": ".py",
   "mimetype": "text/x-python",
   "name": "python",
   "nbconvert_exporter": "python",
   "pygments_lexer": "ipython3",
   "version": "3.8.8"
  },
  "latex_envs": {
   "LaTeX_envs_menu_present": true,
   "autoclose": true,
   "autocomplete": true,
   "bibliofile": "biblio.bib",
   "cite_by": "apalike",
   "current_citInitial": 1,
   "eqLabelWithNumbers": true,
   "eqNumInitial": 1,
   "hotkeys": {
    "equation": "Ctrl-E",
    "itemize": "Ctrl-I"
   },
   "labels_anchors": false,
   "latex_user_defs": false,
   "report_style_numbering": false,
   "user_envs_cfg": false
  }
 },
 "nbformat": 4,
 "nbformat_minor": 5
}
