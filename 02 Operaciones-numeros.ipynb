{
 "cells": [
  {
   "cell_type": "markdown",
   "id": "03a52a63",
   "metadata": {},
   "source": [
    "[Comienzo](https://mybinder.org/v2/git/https%3A%2F%2Fgithub.com%2Fjuandadamo%2Fprogramas_EdJe/HEAD?filepath=Operaciones.ipynb)"
   ]
  },
  {
   "cell_type": "markdown",
   "id": "966960bb",
   "metadata": {},
   "source": [
    "### Longitudes\n",
    "\n",
    "Usemos nuestro conocimiento para calcular longitudes. ¿Cuanto vale la longitud de un triángulo ? \n",
    "\n",
    "Es la suma de la,longitud de sus tres lados. Veamos con una figura:\n",
    "\n",
    "![triangulo.png](tikzs/triangulo.png)\n",
    "Anotemos las longitudes, mirando la regla,\n",
    "\n",
    "por ejemplo, vemos que\n",
    "`L1 = 5` cm. \n",
    "\n",
    "Bueno los \"cm\" no los ponemos, sólo los números."
   ]
  },
  {
   "cell_type": "code",
   "execution_count": null,
   "id": "c23e84c7",
   "metadata": {},
   "outputs": [],
   "source": [
    "L1 = _\n",
    "L2 = _\n",
    "L3 = _\n",
    "\n",
    "LONGITUDTOTAL = _ _ _ _ _"
   ]
  },
  {
   "cell_type": "markdown",
   "id": "99016a99",
   "metadata": {},
   "source": [
    "Y si medimos un rectángulo??\n",
    "\n",
    "![rectangulo.png](tikzs/rectangulo.png)\n",
    "\n",
    "Hace falta medir los 4 lados para saber la longitud total ?"
   ]
  },
  {
   "cell_type": "code",
   "execution_count": null,
   "id": "065d5a53",
   "metadata": {},
   "outputs": [],
   "source": [
    "L1 = _\n",
    "L2 = _\n",
    "\n",
    "LONGITUDTOTAL = _ _ _ _ _ _ _"
   ]
  },
  {
   "cell_type": "markdown",
   "id": "b2f95f5f",
   "metadata": {},
   "source": [
    "### Número Pi\n",
    "\n",
    "Existen algunos números muy especiales para las matemáticas. Uno de ellos se llama \"Pi\". En griego se escribe \\(\\pi\\) Hay muchas historias interesantes alrededor de ese número. Lo primero que me acuerdo que aprendí era que valía algo como \\(3.14\\) y servía para calcular la longitud de circunferencias. \n",
    "\n",
    "Pues, claro, para medir circunferencias, me parecía bien difícil. Cierto es que con una cuerda, siguiendo bien la curva, y marcando allí donde se completa la circunferencia, se podría medir. Pues luego extendemos la cuerda sobre una regla y medimos. Bueno, pero no deja de ser incómodo, comparado con la facilidad que hay para medir los lados de un rectángulo por ejemplo. O de toda figura con lados de lineas rectas.\n",
    "\n",
    "Ahi aparece \\(\\pi\\), pues resulta que si multiplicamos el radio R por 2 por \\(\\pi\\)  obtenemos la longitud de la circunferencia.\n",
    "\n",
    "`Longitud circunferencia = `\\(2\\times R\\times \\pi\\)\n",
    "\n",
    "\n",
    "\n"
   ]
  },
  {
   "cell_type": "code",
   "execution_count": null,
   "id": "7a336410",
   "metadata": {},
   "outputs": [],
   "source": [
    "LONGITUDTOTAL = 2 _ _ _ _"
   ]
  },
  {
   "cell_type": "markdown",
   "id": "4f30211b",
   "metadata": {},
   "source": [
    "![circ2.png](tikzs/circ2.png)"
   ]
  },
  {
   "cell_type": "markdown",
   "id": "18ddbf8b",
   "metadata": {},
   "source": [
    "Si la longitud del planeta Tierra vale 6400 km, podemos calcular el radio de la Tierra ?"
   ]
  },
  {
   "cell_type": "code",
   "execution_count": null,
   "id": "d6a8a409",
   "metadata": {},
   "outputs": [],
   "source": [
    "Longitudtotal = 6400\n",
    "Radio = _ _ _ _ _ _ "
   ]
  },
  {
   "cell_type": "markdown",
   "id": "c603d58a",
   "metadata": {},
   "source": [
    "Así podríamos saber la distancia que tendríamos que cavar para llegar al centro de la Tierra !! :-D"
   ]
  },
  {
   "cell_type": "code",
   "execution_count": null,
   "id": "6912d7f5",
   "metadata": {},
   "outputs": [],
   "source": []
  }
 ],
 "metadata": {
  "kernelspec": {
   "display_name": "Python 3",
   "language": "python",
   "name": "python3"
  },
  "language_info": {
   "codemirror_mode": {
    "name": "ipython",
    "version": 3
   },
   "file_extension": ".py",
   "mimetype": "text/x-python",
   "name": "python",
   "nbconvert_exporter": "python",
   "pygments_lexer": "ipython3",
   "version": "3.8.8"
  },
  "latex_envs": {
   "LaTeX_envs_menu_present": true,
   "autoclose": true,
   "autocomplete": true,
   "bibliofile": "biblio.bib",
   "cite_by": "apalike",
   "current_citInitial": 1,
   "eqLabelWithNumbers": true,
   "eqNumInitial": 1,
   "hotkeys": {
    "equation": "Ctrl-E",
    "itemize": "Ctrl-I"
   },
   "labels_anchors": false,
   "latex_user_defs": false,
   "report_style_numbering": false,
   "user_envs_cfg": false
  }
 },
 "nbformat": 4,
 "nbformat_minor": 5
}
