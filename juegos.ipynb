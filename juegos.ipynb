{
 "cells": [
  {
   "cell_type": "code",
   "execution_count": 47,
   "id": "bd783d46",
   "metadata": {},
   "outputs": [],
   "source": [
    "# Pygame template - skeleton for a new pygame project\n",
    "import pygame\n",
    "import random, matplotlib\n",
    "import matplotlib.pyplot as plt\n",
    "from PIL import ImageColor\n",
    "import numpy as np"
   ]
  },
  {
   "cell_type": "code",
   "execution_count": 48,
   "id": "f36fea62",
   "metadata": {},
   "outputs": [],
   "source": [
    "prop_cycle = plt.rcParams['axes.prop_cycle']\n",
    "colores = prop_cycle.by_key()['color']"
   ]
  },
  {
   "cell_type": "code",
   "execution_count": 49,
   "id": "02bc6f43",
   "metadata": {},
   "outputs": [],
   "source": [
    "WIDTH = 720  # width of our game window\n",
    "HEIGHT = 480 # height of our game window\n",
    "FPS = 30 # frames per second\n",
    "# initialize pygame and create window\n",
    "pygame.init()\n",
    "pygame.mixer.init()  # for sound\n",
    "pantalla = pygame.display.set_mode((WIDTH, HEIGHT))\n",
    "pygame.display.set_caption(\"Juego\")\n",
    "clock = pygame.time.Clock()\n",
    "color_azul = ImageColor.getrgb(colores[0])\n",
    "color_naranja = ImageColor.getrgb(colores[1])\n"
   ]
  },
  {
   "cell_type": "code",
   "execution_count": 45,
   "id": "56f292ca",
   "metadata": {},
   "outputs": [],
   "source": [
    "class Jugador(pygame.sprite.Sprite):\n",
    "    def __init__(self):\n",
    "        pygame.sprite.Sprite.__init__(self)\n",
    "        self.image = pygame.Surface((50, 50))\n",
    "        self.image.fill(color_naranja)\n",
    "        self.rect = self.image.get_rect()\n",
    "        self.rect.center = (WIDTH / 2, HEIGHT / 2)\n",
    "        #self.rect.x = 50\n",
    "        #self.rect.y = 50\n",
    "        self.velocidad = 10\n",
    "    def update(self):\n",
    "        if self.rect.centerx > 0:            \n",
    "            self.rect.centerx += self.velocidad*(np.random.randn())\n",
    "        else:\n",
    "            self.rect.centerx += self.velocidad*np.abs((np.random.randn()))\n",
    "        if self.rect.centerx > 0: \n",
    "            self.rect.centery += self.velocidad*(np.random.randn())\n",
    "        else:\n",
    "            self.rect.centery += self.velocidad*np.abs(np.random.randn())\n",
    "        "
   ]
  },
  {
   "cell_type": "code",
   "execution_count": null,
   "id": "a699fde0",
   "metadata": {},
   "outputs": [],
   "source": [
    "reloj = pygame.time.Clock()\n",
    "mis_sprites = pygame.sprite.Group()\n",
    "pantalla.fill(color_azul)\n",
    "jugador = Jugador()  \n",
    "mis_sprites.add(jugador)\n",
    "\n",
    "running = True\n",
    "while running:\n",
    "    # keep loop running at the right speed\n",
    "    reloj.tick(FPS)\n",
    "    pantalla.fill(color_azul)\n",
    "    # Process input (events)\n",
    "    for event in pygame.event.get():\n",
    "        # check for closing window\n",
    "        if event.type == pygame.QUIT:\n",
    "            running = False\n",
    "\n",
    "    # Update\n",
    "    \n",
    "    # Draw / render\n",
    "\n",
    "    mis_sprites.update()\n",
    "\n",
    "    # Draw / render\n",
    "    \n",
    "    mis_sprites.draw(pantalla)\n",
    "    #pantalla.blit()\n",
    "    pygame.display.flip()\n",
    "    \n",
    "pygame.quit()"
   ]
  },
  {
   "cell_type": "code",
   "execution_count": 36,
   "id": "569cbd76",
   "metadata": {},
   "outputs": [
    {
     "data": {
      "text/plain": [
       "-1.4522160424346047"
      ]
     },
     "execution_count": 36,
     "metadata": {},
     "output_type": "execute_result"
    }
   ],
   "source": [
    "np.random.randn()"
   ]
  },
  {
   "cell_type": "code",
   "execution_count": null,
   "id": "09a9bf3e",
   "metadata": {},
   "outputs": [],
   "source": []
  }
 ],
 "metadata": {
  "kernelspec": {
   "display_name": "Python 3",
   "language": "python",
   "name": "python3"
  },
  "language_info": {
   "codemirror_mode": {
    "name": "ipython",
    "version": 3
   },
   "file_extension": ".py",
   "mimetype": "text/x-python",
   "name": "python",
   "nbconvert_exporter": "python",
   "pygments_lexer": "ipython3",
   "version": "3.8.10"
  },
  "latex_envs": {
   "LaTeX_envs_menu_present": true,
   "autoclose": true,
   "autocomplete": true,
   "bibliofile": "biblio.bib",
   "cite_by": "apalike",
   "current_citInitial": 1,
   "eqLabelWithNumbers": true,
   "eqNumInitial": 1,
   "hotkeys": {
    "equation": "Ctrl-E",
    "itemize": "Ctrl-I"
   },
   "labels_anchors": false,
   "latex_user_defs": false,
   "report_style_numbering": false,
   "user_envs_cfg": false
  }
 },
 "nbformat": 4,
 "nbformat_minor": 5
}
